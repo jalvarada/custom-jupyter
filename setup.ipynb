{
 "cells": [
  {
   "cell_type": "code",
   "execution_count": null,
   "metadata": {},
   "outputs": [],
   "source": [
    "from setuptools import find_packages, setup"
   ]
  },
  {
   "cell_type": "code",
   "execution_count": null,
   "metadata": {},
   "outputs": [],
   "source": [
    "setup(\n",
    "    name='src',\n",
    "    packages=find_packages(),\n",
    "    version='0.1.0',\n",
    "    description='Extension example',\n",
    "    author='Josue',\n",
    "    license='MIT',\n",
    ")"
   ]
  }
 ],
 "metadata": {
  "jupytext": {
   "cell_metadata_filter": "-all",
   "formats": "ipynb,py",
   "main_language": "python"
  }
 },
 "nbformat": 4,
 "nbformat_minor": 4
}
